{
 "metadata": {
  "language_info": {
   "codemirror_mode": {
    "name": "ipython",
    "version": 3
   },
   "file_extension": ".py",
   "mimetype": "text/x-python",
   "name": "python",
   "nbconvert_exporter": "python",
   "pygments_lexer": "ipython3",
   "version": "3.8.2-final"
  },
  "orig_nbformat": 2,
  "kernelspec": {
   "name": "python38264bitenvvenvdbe2a4ff42cf4b609b2c092fe966bd8d",
   "display_name": "Python 3.8.2 64-bit ('env': venv)"
  }
 },
 "nbformat": 4,
 "nbformat_minor": 2,
 "cells": [
  {
   "cell_type": "markdown",
   "metadata": {},
   "source": [
    "# 2.2 - Simple Action-Value Method"
   ]
  },
  {
   "cell_type": "code",
   "execution_count": 2,
   "metadata": {},
   "outputs": [],
   "source": [
    "# import libraries\n",
    "import numpy as np \n",
    "import matplotlib.pyplot as plt"
   ]
  },
  {
   "cell_type": "markdown",
   "metadata": {},
   "source": [
    "In this notebook, we will replicate the figures created in 2.2 for comparing the effects of different epsilon values for epsilon-greedy action selection on the average reward and the percentage of optimal action taken over time.\n",
    "\n",
    "For 2.2, the action-value function is defined as:\n",
    "\n",
    "![Q function](assets/2-2/2-2-Q.png)"
   ]
  },
  {
   "cell_type": "code",
   "execution_count": 7,
   "metadata": {},
   "outputs": [],
   "source": [
    "# constants\n",
    "actions = 10 # number of actions in each n-armed bandit task\n",
    "experiments = 2000 # number of n-armed bandit tasks generated for each epsilon\n",
    "steps = 1000 # number of steps in each experiment\n",
    "epsilon_values = [0, .01, .1] # epsilon values to try\n",
    "\n",
    "# define cumalitve optimal % / reward arrays\n",
    "average_rewards = np.zeros((len(epsilon_values), steps))\n",
    "optimal_actions = np.zeros((len(epsilon_values), steps))"
   ]
  },
  {
   "cell_type": "code",
   "execution_count": null,
   "metadata": {},
   "outputs": [],
   "source": [
    "\n",
    "def sample(epsilon, cumalative_rewards, steps):\n"
   ]
  },
  {
   "cell_type": "code",
   "execution_count": null,
   "metadata": {},
   "outputs": [],
   "source": [
    "# perform experiments for each epsilon value\n",
    "for i in range(len(epsilon_values)):\n",
    "    epsilon = epsilon_values[i]\n",
    "    for j in range(experiments):\n",
    "        cumulative_rewards = np.zeros((len(actions)))\n",
    "        for k in range(steps):\n"
   ]
  }
 ]
}